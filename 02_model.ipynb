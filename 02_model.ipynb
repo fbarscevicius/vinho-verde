{
 "cells": [
  {
   "cell_type": "code",
   "execution_count": 1,
   "metadata": {},
   "outputs": [],
   "source": [
    "%load_ext autoreload\n",
    "%autoreload 2\n",
    "\n",
    "import utils\n",
    "\n",
    "import numpy as np\n",
    "import pandas as pd\n",
    "import matplotlib.pyplot as plt\n",
    "\n",
    "from pickle import load, dump\n",
    "from sklearn.model_selection import train_test_split\n",
    "from sklearn.preprocessing import PowerTransformer, OrdinalEncoder, StandardScaler\n",
    "from sklearn.compose import ColumnTransformer\n",
    "from sklearn.pipeline import make_pipeline\n",
    "from sklearn.linear_model import ElasticNetCV\n",
    "from sklearn.metrics import mean_squared_error\n",
    "from sklearn.dummy import DummyRegressor\n",
    "\n",
    "RANDOM_STATE = 42"
   ]
  },
  {
   "cell_type": "markdown",
   "metadata": {},
   "source": [
    "## Carregar dados / separar em treino e teste"
   ]
  },
  {
   "cell_type": "code",
   "execution_count": 2,
   "metadata": {},
   "outputs": [],
   "source": [
    "with open('data/wine_quality_fixed.pkl', 'rb') as file:\n",
    "    wine_data = load(file) "
   ]
  },
  {
   "cell_type": "code",
   "execution_count": 3,
   "metadata": {},
   "outputs": [],
   "source": [
    "y = wine_data.quality\n",
    "X = wine_data.drop(['quality'], axis=1)"
   ]
  },
  {
   "cell_type": "code",
   "execution_count": 4,
   "metadata": {},
   "outputs": [],
   "source": [
    "X_treino, X_teste, y_treino, y_teste = train_test_split(X, y, test_size=0.2, random_state=RANDOM_STATE, stratify=y)"
   ]
  },
  {
   "cell_type": "markdown",
   "metadata": {},
   "source": [
    "## Pré-processamento\n",
    "\n",
    "Aqui, aplicaremos transformações para aproximar a distribuição dos dados para uma gaussiana simétrica. Além disso, as variáveis numéricas serão centralizadas e escaladas para que seus valores estejam no mesmo intervalo (passo necessário para a maioria dos modelos de machine learning). A coluna **type**, categórica, será transformada em uma flag {0, 1} para poder entrar no modelo."
   ]
  },
  {
   "cell_type": "code",
   "execution_count": 5,
   "metadata": {},
   "outputs": [],
   "source": [
    "kurtosis_vars = abs(X_treino.kurtosis())\n",
    "kurtosis_vars = list(kurtosis_vars[kurtosis_vars > 3].index)\n",
    "\n",
    "label_vars = list(X_treino.select_dtypes(include=['object']).columns)\n",
    "\n",
    "scale_vars = [col for col in X_treino.columns if col not in [*kurtosis_vars, *label_vars]]"
   ]
  },
  {
   "cell_type": "code",
   "execution_count": 6,
   "metadata": {},
   "outputs": [],
   "source": [
    "preprocessing = ColumnTransformer(\n",
    "    [(\"encode_categorical\", OrdinalEncoder(), label_vars),\n",
    "     (\"scale\", StandardScaler(copy=False), scale_vars),\n",
    "     (\"gaussianize\", PowerTransformer(copy=False), kurtosis_vars)])"
   ]
  },
  {
   "cell_type": "markdown",
   "metadata": {},
   "source": [
    "## Modelo ElasticNet\n",
    "\n",
    "Os coeficientes de um modelo de regressão tendem a \"estourar\" (assumir valores muito altos) quando há correlação entre os preditores, interferindo na qualidade das predições. Para contornar esse problema, usaremos a regressão *ElasticNet* que adiciona um termo de regularização dos coeficientes, forçando-os a assumir valores próximos de 0. Isso também ajuda a evitar o **overfitting**. O método de validação cruzada *k-fold* com k=5 será usado para seleção dos hiperparâmetros $\\alpha$ e l1_ratio."
   ]
  },
  {
   "cell_type": "code",
   "execution_count": 7,
   "metadata": {},
   "outputs": [],
   "source": [
    "elasticnet = make_pipeline(preprocessing, ElasticNetCV(l1_ratio=np.linspace(0.01, 1, 50), cv=5, random_state=RANDOM_STATE, n_jobs=-1))\n",
    "elasticnet = elasticnet.fit(X_treino, y_treino)"
   ]
  },
  {
   "cell_type": "markdown",
   "metadata": {},
   "source": [
    "## Coeficientes do modelo"
   ]
  },
  {
   "cell_type": "code",
   "execution_count": 8,
   "metadata": {},
   "outputs": [
    {
     "data": {
      "image/png": "[encoded data removed]",
      "text/plain": [
       "<Figure size 720x576 with 1 Axes>"
      ]
     },
     "metadata": {
      "needs_background": "light"
     },
     "output_type": "display_data"
    }
   ],
   "source": [
    "coefs = utils.get_coefs([*label_vars, *scale_vars, *kurtosis_vars], elasticnet.named_steps['elasticnetcv'].coef_)\n",
    "utils.plot_coef_hbar(coefs)"
   ]
  },
  {
   "cell_type": "markdown",
   "metadata": {},
   "source": [
    "Como as variáveis estão na mesma escala, podemos assumir que o coeficiente da variável é equivalente à sua importância para o modelo. Conforme visto na análise exploratória, **alcohol** e **volatile acidity** apresentam os maiores coeficientes, com maior impacto na qualidade do vinho."
   ]
  },
  {
   "cell_type": "markdown",
   "metadata": {},
   "source": [
    "## RMSE treino / teste"
   ]
  },
  {
   "cell_type": "code",
   "execution_count": 9,
   "metadata": {},
   "outputs": [],
   "source": [
    "pred_treino = elasticnet.predict(X_treino)\n",
    "pred_teste  = elasticnet.predict(X_teste)"
   ]
  },
  {
   "cell_type": "code",
   "execution_count": 10,
   "metadata": {},
   "outputs": [],
   "source": [
    "rmse_treino = utils.rmse(y_treino, pred_treino)\n",
    "rmse_teste  = utils.rmse(y_teste, pred_teste)"
   ]
  },
  {
   "cell_type": "code",
   "execution_count": 11,
   "metadata": {},
   "outputs": [
    {
     "name": "stdout",
     "output_type": "stream",
     "text": [
      "rmse treino: 0.732\n",
      "rmse teste:  0.747\n"
     ]
    }
   ],
   "source": [
    "print(f'rmse treino: {rmse_treino:.3f}')\n",
    "print(f'rmse teste:  {rmse_teste:.3f}')"
   ]
  },
  {
   "cell_type": "markdown",
   "metadata": {},
   "source": [
    "A raíz do erro quadrático médio é muito similar entre as bases de treino e teste, indicando que não houve overfitting, e está com um valor baixo em relação à escala da resposta (**quality**). Essa métrica mede a distância dos erros da predição em relação à reta ajustada pelo modelo, ou seja: estamos errando na predição, em média, 0.74 pontos em relação ao valor verdadeiro.\n",
    "\n",
    "Vamos ajustar dois modelos nulos, prevendo a média e mediana dos valores de **quality** na base de treino para todas as observações da base de teste."
   ]
  },
  {
   "cell_type": "markdown",
   "metadata": {},
   "source": [
    "## RMSE modelos dummy"
   ]
  },
  {
   "cell_type": "code",
   "execution_count": 12,
   "metadata": {},
   "outputs": [],
   "source": [
    "modelo_media   = DummyRegressor(strategy='mean')\n",
    "modelo_mediana = DummyRegressor(strategy='median')"
   ]
  },
  {
   "cell_type": "code",
   "execution_count": 13,
   "metadata": {},
   "outputs": [],
   "source": [
    "modelo_media   = modelo_media.fit(X_treino, y_treino)\n",
    "modelo_mediana = modelo_mediana.fit(X_treino, y_treino)"
   ]
  },
  {
   "cell_type": "code",
   "execution_count": 14,
   "metadata": {},
   "outputs": [],
   "source": [
    "pred_media   = modelo_media.predict(X_teste)\n",
    "pred_mediana = modelo_mediana.predict(X_teste)"
   ]
  },
  {
   "cell_type": "code",
   "execution_count": 15,
   "metadata": {},
   "outputs": [],
   "source": [
    "rmse_media   = utils.rmse(y_teste, pred_media)\n",
    "rmse_mediana = utils.rmse(y_teste, pred_mediana)"
   ]
  },
  {
   "cell_type": "code",
   "execution_count": 16,
   "metadata": {},
   "outputs": [
    {
     "name": "stdout",
     "output_type": "stream",
     "text": [
      "rmse media:   0.874\n",
      "rmse mediana: 0.892\n"
     ]
    }
   ],
   "source": [
    "print(f'rmse media:   {rmse_media:.3f}')\n",
    "print(f'rmse mediana: {rmse_mediana:.3f}')"
   ]
  },
  {
   "cell_type": "markdown",
   "metadata": {},
   "source": [
    "O *rmse* nos dois modelos ficou em torno de 0.88. Nosso *ElasticNet* está melhor do que modelos aleatórios, mas os valores não estão significativamente distantes. Isso pode ser devido à natureza dos dados, pois a percepção sensorial da qualidade de um vinho é muito subjetiva e é influenciada por muito mais fatores do que simplesmente as propriedades físicas do produto."
   ]
  },
  {
   "cell_type": "markdown",
   "metadata": {},
   "source": [
    "## Salvando modelo"
   ]
  },
  {
   "cell_type": "code",
   "execution_count": 17,
   "metadata": {},
   "outputs": [],
   "source": [
    "with open('model/elasticnet.pkl', 'wb') as file:\n",
    "    dump(elasticnet, file)"
   ]
  }
 ],
 "metadata": {
  "kernelspec": {
   "display_name": "Python 3",
   "language": "python",
   "name": "python3"
  },
  "language_info": {
   "codemirror_mode": {
    "name": "ipython",
    "version": 3
   },
   "file_extension": ".py",
   "mimetype": "text/x-python",
   "name": "python",
   "nbconvert_exporter": "python",
   "pygments_lexer": "ipython3",
   "version": "3.6.8"
  }
 },
 "nbformat": 4,
 "nbformat_minor": 2
}
